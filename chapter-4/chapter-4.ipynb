{
 "cells": [
  {
   "cell_type": "markdown",
   "metadata": {},
   "source": [
    "# Chapter 4 - Fundementals of machine learning\n",
    "\n",
    "This chapter doesn't really include many examples that should be done in a notebook to uncover how they work ans since I don't want to summarize the book here I will just make a list of things I found interesting from the chapter:\n",
    "\n",
    "- Self-supervised learning\n",
    "- Reinforcement learning\n",
    "- Hold out model for validation data\n",
    "- The arrow of time (mitigating temporal leaks)\n",
    "- Data preprocessing:\n",
    "  - Value normalization\n",
    "  - Handling missing values\n",
    "- Feature engineering\n",
    "- Weight regularization\n",
    "- Dropout\n",
    "- The universal worlflow of machine learning\n",
    "\n",
    "\n",
    "This chapter will more than likely serve as a refrence point for future chapters."
   ]
  }
 ],
 "metadata": {
  "kernelspec": {
   "display_name": "Python 3",
   "language": "python",
   "name": "python3"
  },
  "language_info": {
   "codemirror_mode": {
    "name": "ipython",
    "version": 3
   },
   "file_extension": ".py",
   "mimetype": "text/x-python",
   "name": "python",
   "nbconvert_exporter": "python",
   "pygments_lexer": "ipython3",
   "version": "3.6.7"
  }
 },
 "nbformat": 4,
 "nbformat_minor": 4
}
