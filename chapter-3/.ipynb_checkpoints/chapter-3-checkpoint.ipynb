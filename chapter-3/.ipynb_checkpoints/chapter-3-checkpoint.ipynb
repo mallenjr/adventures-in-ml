{
 "cells": [
  {
   "cell_type": "markdown",
   "metadata": {},
   "source": [
    "# Chapter 3\n",
    "\n",
    "So far in this chapter, the book has discussed installing Keras and how it interfaces with the chosen backend (tensorflow, cntk, theano, etc..). The first applicable part of this chapter is section 3.4 where we will use the IMBD dataset to predict reviews for movies. The dataset is a part of the Keras library and contains 50,000 highly polarized reviews according to the book. The num_words argument in line 3 basically means that only the top 10,000 most commonly used words will be kept in the training and test data."
   ]
  },
  {
   "cell_type": "code",
   "execution_count": 25,
   "metadata": {},
   "outputs": [],
   "source": [
    "from tensorflow.keras.datasets import imdb"
   ]
  },
  {
   "cell_type": "code",
   "execution_count": 26,
   "metadata": {},
   "outputs": [],
   "source": [
    "import numpy as np"
   ]
  },
  {
   "cell_type": "code",
   "execution_count": 27,
   "metadata": {},
   "outputs": [],
   "source": [
    "(train_data, train_labels), (test_data, test_labels) = imdb.load_data(num_words=10000)"
   ]
  },
  {
   "cell_type": "markdown",
   "metadata": {},
   "source": [
    "### Example of decoding the training data back to human readble stuff\n",
    "\n",
    "Pretty self-explanitory. the ?s represent data not included in the aforementioned 10,000 word dictionary."
   ]
  },
  {
   "cell_type": "code",
   "execution_count": 28,
   "metadata": {},
   "outputs": [
    {
     "name": "stdout",
     "output_type": "stream",
     "text": [
      "? this film was just brilliant casting location scenery story direction everyone's really suited the part they played and you could just imagine being there robert ? is an amazing actor and now the same being director ? father came from the same scottish island as myself so i loved the fact there was a real connection with this film the witty remarks throughout the film were great it was just brilliant so much that i bought the film as soon as it was released for ? and would recommend it to everyone to watch and the fly fishing was amazing really cried at the end it was so sad and you know what they say if you cry at a film it must have been good and this definitely was also ? to the two little boy's that played the ? of norman and paul they were just brilliant children are often left out of the ? list i think because the stars that play them all grown up are such a big profile for the whole film but these children are amazing and should be praised for what they have done don't you think the whole story was so lovely because it was true and was someone's life after all that was shared with us all\n"
     ]
    }
   ],
   "source": [
    "word_index = imdb.get_word_index()\n",
    "reverse_word_index = dict([(value, key) for (key, value) in word_index.items()])\n",
    "decoded_review = ' '.join([reverse_word_index.get(i - 3, '?') for i in train_data[0]])\n",
    "print(decoded_review)"
   ]
  },
  {
   "cell_type": "markdown",
   "metadata": {},
   "source": [
    "### Preparing the data\n",
    "\n",
    "So as we learned in last chapter, we cannot directly import vector data of essentially aarbitrary values into a neural network. I mean, we can, but it would seriously impede performance. To combat this, we _normalize_ the data. In this instance, normalization is done by one-hot encoding. Below is a manual implementation of one-hot encoding taken directly from the book. Based on my **limited** understanding: one-hot encoding takes each element in the array and encodes it in a way that makes the data understandable to neural networks."
   ]
  },
  {
   "cell_type": "code",
   "execution_count": 29,
   "metadata": {},
   "outputs": [],
   "source": [
    "def vectorize_sequences(sequences, dimension=10000):\n",
    "    results = np.zeros((len(sequences), dimension))\n",
    "    for i, sequence in enumerate(sequences):\n",
    "        results[i, sequence] = 1.\n",
    "    return results"
   ]
  },
  {
   "cell_type": "code",
   "execution_count": 30,
   "metadata": {},
   "outputs": [],
   "source": [
    "x_train = vectorize_sequences(train_data)\n",
    "x_test = vectorize_sequences(test_data)"
   ]
  },
  {
   "cell_type": "markdown",
   "metadata": {},
   "source": [
    "### A deeper dive\n",
    "\n",
    "So I printed out the first few elements of the enumeration that takes place to get a bit of a deeper understanding of what's happening inside of the one-hot function. Based on what I can tell, the results matrix has a shape in dimension 0 equal to the length of the training data array and a shape in dimension 1 equal to the shape of the word dictionary. The results line inside of the for loop does the ineresting bit: for each line in the results array, every position that indicates a word that appears in the article, no matter how many times, is given a value of 1 and all others are given a value of 0."
   ]
  },
  {
   "cell_type": "code",
   "execution_count": 31,
   "metadata": {},
   "outputs": [
    {
     "name": "stdout",
     "output_type": "stream",
     "text": [
      "[(0, [1, 14, 22, 16, 43, 530, 973, 1622, 1385, 65, 458, 4468, 66, 3941, 4, 173, 36, 256, 5, 25, 100, 43, 838, 112, 50, 670, 2, 9, 35, 480, 284, 5, 150, 4, 172, 112, 167, 2, 336, 385, 39, 4, 172, 4536, 1111, 17, 546, 38, 13, 447, 4, 192, 50, 16, 6, 147, 2025, 19, 14, 22, 4, 1920, 4613, 469, 4, 22, 71, 87, 12, 16, 43, 530, 38, 76, 15, 13, 1247, 4, 22, 17, 515, 17, 12, 16, 626, 18, 2, 5, 62, 386, 12, 8, 316, 8, 106, 5, 4, 2223, 5244, 16, 480, 66, 3785, 33, 4, 130, 12, 16, 38, 619, 5, 25, 124, 51, 36, 135, 48, 25, 1415, 33, 6, 22, 12, 215, 28, 77, 52, 5, 14, 407, 16, 82, 2, 8, 4, 107, 117, 5952, 15, 256, 4, 2, 7, 3766, 5, 723, 36, 71, 43, 530, 476, 26, 400, 317, 46, 7, 4, 2, 1029, 13, 104, 88, 4, 381, 15, 297, 98, 32, 2071, 56, 26, 141, 6, 194, 7486, 18, 4, 226, 22, 21, 134, 476, 26, 480, 5, 144, 30, 5535, 18, 51, 36, 28, 224, 92, 25, 104, 4, 226, 65, 16, 38, 1334, 88, 12, 16, 283, 5, 16, 4472, 113, 103, 32, 15, 16, 5345, 19, 178, 32]), (1, [1, 194, 1153, 194, 8255, 78, 228, 5, 6, 1463, 4369, 5012, 134, 26, 4, 715, 8, 118, 1634, 14, 394, 20, 13, 119, 954, 189, 102, 5, 207, 110, 3103, 21, 14, 69, 188, 8, 30, 23, 7, 4, 249, 126, 93, 4, 114, 9, 2300, 1523, 5, 647, 4, 116, 9, 35, 8163, 4, 229, 9, 340, 1322, 4, 118, 9, 4, 130, 4901, 19, 4, 1002, 5, 89, 29, 952, 46, 37, 4, 455, 9, 45, 43, 38, 1543, 1905, 398, 4, 1649, 26, 6853, 5, 163, 11, 3215, 2, 4, 1153, 9, 194, 775, 7, 8255, 2, 349, 2637, 148, 605, 2, 8003, 15, 123, 125, 68, 2, 6853, 15, 349, 165, 4362, 98, 5, 4, 228, 9, 43, 2, 1157, 15, 299, 120, 5, 120, 174, 11, 220, 175, 136, 50, 9, 4373, 228, 8255, 5, 2, 656, 245, 2350, 5, 4, 9837, 131, 152, 491, 18, 2, 32, 7464, 1212, 14, 9, 6, 371, 78, 22, 625, 64, 1382, 9, 8, 168, 145, 23, 4, 1690, 15, 16, 4, 1355, 5, 28, 6, 52, 154, 462, 33, 89, 78, 285, 16, 145, 95])]\n"
     ]
    }
   ],
   "source": [
    "print(list(enumerate(train_data[:2])))"
   ]
  },
  {
   "cell_type": "markdown",
   "metadata": {},
   "source": [
    "### Another way embraces us\n",
    "\n",
    "Instead of one-hot, you can use built in numpy functions to vectorize the data. But what fun is that?"
   ]
  },
  {
   "cell_type": "code",
   "execution_count": 32,
   "metadata": {},
   "outputs": [],
   "source": [
    "y_train = np.asarray(train_labels).astype('float32')\n",
    "y_test = np.asarray(train_labels).astype('float32')"
   ]
  },
  {
   "cell_type": "markdown",
   "metadata": {},
   "source": [
    "### Building the network"
   ]
  },
  {
   "cell_type": "code",
   "execution_count": 33,
   "metadata": {},
   "outputs": [],
   "source": [
    "from tensorflow.keras import models\n",
    "from tensorflow.keras import layers\n",
    "from tensorflow.keras import optimizers"
   ]
  },
  {
   "cell_type": "code",
   "execution_count": 34,
   "metadata": {},
   "outputs": [],
   "source": [
    "model = models.Sequential()\n",
    "model.add(layers.Dense(16, activation='relu', input_shape=(10000,)))\n",
    "model.add(layers.Dense(16, activation='relu'))\n",
    "model.add(layers.Dense(1, activation='sigmoid'))"
   ]
  },
  {
   "cell_type": "code",
   "execution_count": 35,
   "metadata": {},
   "outputs": [],
   "source": [
    "model.compile(optimizer='rmsprop',\n",
    "             loss='binary_crossentropy',\n",
    "             metrics=['accuracy'])"
   ]
  },
  {
   "cell_type": "code",
   "execution_count": 36,
   "metadata": {},
   "outputs": [],
   "source": [
    "x_val = x_train[:10000]\n",
    "partial_x_train = x_train[10000:]\n",
    "y_val = y_train[:10000]\n",
    "partial_y_train = y_train[10000:]"
   ]
  },
  {
   "cell_type": "code",
   "execution_count": 37,
   "metadata": {},
   "outputs": [
    {
     "name": "stdout",
     "output_type": "stream",
     "text": [
      "Train on 15000 samples, validate on 10000 samples\n",
      "Epoch 1/20\n",
      "15000/15000 [==============================] - 2s 104us/sample - loss: 0.5004 - accuracy: 0.7872 - val_loss: 0.3676 - val_accuracy: 0.8755\n",
      "Epoch 2/20\n",
      "15000/15000 [==============================] - 1s 42us/sample - loss: 0.2932 - accuracy: 0.9044 - val_loss: 0.2990 - val_accuracy: 0.8878\n",
      "Epoch 3/20\n",
      "15000/15000 [==============================] - 1s 44us/sample - loss: 0.2156 - accuracy: 0.9300 - val_loss: 0.2776 - val_accuracy: 0.8916\n",
      "Epoch 4/20\n",
      "15000/15000 [==============================] - 1s 46us/sample - loss: 0.1694 - accuracy: 0.9459 - val_loss: 0.2815 - val_accuracy: 0.8891\n",
      "Epoch 5/20\n",
      "15000/15000 [==============================] - 1s 46us/sample - loss: 0.1400 - accuracy: 0.9556 - val_loss: 0.2931 - val_accuracy: 0.8847\n",
      "Epoch 6/20\n",
      "15000/15000 [==============================] - 1s 50us/sample - loss: 0.1135 - accuracy: 0.9653 - val_loss: 0.2990 - val_accuracy: 0.8840\n",
      "Epoch 7/20\n",
      "15000/15000 [==============================] - 1s 42us/sample - loss: 0.0951 - accuracy: 0.9710 - val_loss: 0.3203 - val_accuracy: 0.8811\n",
      "Epoch 8/20\n",
      "15000/15000 [==============================] - 1s 41us/sample - loss: 0.0772 - accuracy: 0.9779 - val_loss: 0.3344 - val_accuracy: 0.8813\n",
      "Epoch 9/20\n",
      "15000/15000 [==============================] - 1s 43us/sample - loss: 0.0656 - accuracy: 0.9816 - val_loss: 0.3533 - val_accuracy: 0.8792\n",
      "Epoch 10/20\n",
      "15000/15000 [==============================] - 1s 42us/sample - loss: 0.0530 - accuracy: 0.9865 - val_loss: 0.3816 - val_accuracy: 0.8777\n",
      "Epoch 11/20\n",
      "15000/15000 [==============================] - 1s 44us/sample - loss: 0.0418 - accuracy: 0.9903 - val_loss: 0.4059 - val_accuracy: 0.8759\n",
      "Epoch 12/20\n",
      "15000/15000 [==============================] - 1s 42us/sample - loss: 0.0363 - accuracy: 0.9923 - val_loss: 0.4486 - val_accuracy: 0.8711\n",
      "Epoch 13/20\n",
      "15000/15000 [==============================] - 1s 46us/sample - loss: 0.0272 - accuracy: 0.9949 - val_loss: 0.4764 - val_accuracy: 0.8724\n",
      "Epoch 14/20\n",
      "15000/15000 [==============================] - 1s 44us/sample - loss: 0.0204 - accuracy: 0.9976 - val_loss: 0.5330 - val_accuracy: 0.8664\n",
      "Epoch 15/20\n",
      "15000/15000 [==============================] - 1s 43us/sample - loss: 0.0166 - accuracy: 0.9979 - val_loss: 0.5447 - val_accuracy: 0.8708\n",
      "Epoch 16/20\n",
      "15000/15000 [==============================] - 1s 42us/sample - loss: 0.0155 - accuracy: 0.9979 - val_loss: 0.5803 - val_accuracy: 0.8701\n",
      "Epoch 17/20\n",
      "15000/15000 [==============================] - 1s 42us/sample - loss: 0.0088 - accuracy: 0.9993 - val_loss: 0.7213 - val_accuracy: 0.8504\n",
      "Epoch 18/20\n",
      "15000/15000 [==============================] - 1s 43us/sample - loss: 0.0076 - accuracy: 0.9992 - val_loss: 0.6657 - val_accuracy: 0.8640\n",
      "Epoch 19/20\n",
      "15000/15000 [==============================] - 1s 41us/sample - loss: 0.0051 - accuracy: 0.9998 - val_loss: 0.6900 - val_accuracy: 0.8659\n",
      "Epoch 20/20\n",
      "15000/15000 [==============================] - 1s 42us/sample - loss: 0.0087 - accuracy: 0.9979 - val_loss: 0.7241 - val_accuracy: 0.8634\n"
     ]
    }
   ],
   "source": [
    "history = model.fit(partial_x_train,\n",
    "                   partial_y_train,\n",
    "                   epochs=20,\n",
    "                   batch_size=512,\n",
    "                   validation_data=(x_val, y_val))"
   ]
  },
  {
   "cell_type": "code",
   "execution_count": 38,
   "metadata": {},
   "outputs": [
    {
     "name": "stdout",
     "output_type": "stream",
     "text": [
      "dict_keys(['loss', 'accuracy', 'val_loss', 'val_accuracy'])\n"
     ]
    }
   ],
   "source": [
    "history_dict = history.history\n",
    "print(history_dict.keys())"
   ]
  },
  {
   "cell_type": "code",
   "execution_count": 39,
   "metadata": {},
   "outputs": [],
   "source": [
    "import matplotlib.pyplot as plt"
   ]
  },
  {
   "cell_type": "code",
   "execution_count": 40,
   "metadata": {},
   "outputs": [],
   "source": [
    "loss_values = history_dict['loss']\n",
    "val_loss_values = history_dict['val_loss']\n",
    "epochs = range(1, len(history_dict['accuracy']) + 1)"
   ]
  },
  {
   "cell_type": "code",
   "execution_count": 41,
   "metadata": {},
   "outputs": [
    {
     "data": {
      "image/png": "[encoded data removed]",
      "text/plain": [
       "<Figure size 432x288 with 1 Axes>"
      ]
     },
     "metadata": {
      "needs_background": "light"
     },
     "output_type": "display_data"
    }
   ],
   "source": [
    "plt.plot(epochs, loss_values, 'bo', label='Training loss')\n",
    "plt.plot(epochs, val_loss_values, 'b', label='Validation loss')\n",
    "plt.title('Training and validation loss')\n",
    "plt.xlabel('Epochs')\n",
    "plt.ylabel('Loss')\n",
    "plt.legend()\n",
    "plt.show()"
   ]
  },
  {
   "cell_type": "code",
   "execution_count": 42,
   "metadata": {},
   "outputs": [
    {
     "data": {
      "image/png": "[encoded data removed]",
      "text/plain": [
       "<Figure size 432x288 with 1 Axes>"
      ]
     },
     "metadata": {
      "needs_background": "light"
     },
     "output_type": "display_data"
    }
   ],
   "source": [
    "plt.clf()\n",
    "acc_values = history_dict['accuracy']\n",
    "val_acc_values = history_dict['val_accuracy']\n",
    "plt.plot(epochs, acc_values, 'bo', label='Training accuracy')\n",
    "plt.plot(epochs, val_acc_values, 'b', label='Validation accuracy')\n",
    "plt.title('Training and validation accuracy')\n",
    "plt.xlabel('Epochs')\n",
    "plt.ylabel('Loss')\n",
    "plt.legend()\n",
    "plt.show()"
   ]
  },
  {
   "cell_type": "code",
   "execution_count": 43,
   "metadata": {},
   "outputs": [],
   "source": [
    "model = models.Sequential()\n",
    "model.add(layers.Dense(16, activation='tanh', input_shape=(10000,)))\n",
    "model.add(layers.Dense(16, activation='tanh'))\n",
    "model.add(layers.Dense(1, activation='sigmoid'))"
   ]
  },
  {
   "cell_type": "code",
   "execution_count": 44,
   "metadata": {},
   "outputs": [],
   "source": [
    "model.compile(optimizer='rmsprop',\n",
    "             loss='binary_crossentropy',\n",
    "             metrics=['accuracy'])"
   ]
  },
  {
   "cell_type": "code",
   "execution_count": 45,
   "metadata": {},
   "outputs": [
    {
     "name": "stdout",
     "output_type": "stream",
     "text": [
      "Train on 25000 samples\n",
      "Epoch 1/4\n",
      "25000/25000 [==============================] - 1s 38us/sample - loss: 0.4205 - accuracy: 0.8228\n",
      "Epoch 2/4\n",
      "25000/25000 [==============================] - 1s 26us/sample - loss: 0.2332 - accuracy: 0.9133\n",
      "Epoch 3/4\n",
      "25000/25000 [==============================] - 1s 26us/sample - loss: 0.1787 - accuracy: 0.9341\n",
      "Epoch 4/4\n",
      "25000/25000 [==============================] - 1s 25us/sample - loss: 0.1475 - accuracy: 0.9459\n",
      "25000/25000 [==============================] - 2s 62us/sample - loss: 2.0150 - accuracy: 0.4994\n"
     ]
    }
   ],
   "source": [
    "history = model.fit(x_train, y_train, epochs=4, batch_size=512)\n",
    "results = model.evaluate(x_test, y_test)"
   ]
  },
  {
   "cell_type": "markdown",
   "metadata": {},
   "source": [
    "## A mutliclass classification example\n",
    "\n",
    "In the previous example, we learned how to classify our inputs into two distinct classes. While this is great as a starting point, sometimes we might want to extract more than two classes. In this section of the chapter, we will use the Reuters dataset to classify Reutures newswires into 46 distinct categories. This is an example of _single-label, multi-class classification_. Meaning every datapoint will fall into one and only one category of the 46 that we define in the output layer."
   ]
  },
  {
   "cell_type": "code",
   "execution_count": 46,
   "metadata": {},
   "outputs": [],
   "source": [
    "from tensorflow.keras.datasets import reuters"
   ]
  },
  {
   "cell_type": "code",
   "execution_count": 47,
   "metadata": {},
   "outputs": [],
   "source": [
    "(train_data, train_labels), (test_data, test_labels) = reuters.load_data(num_words=10000)"
   ]
  },
  {
   "cell_type": "code",
   "execution_count": 48,
   "metadata": {},
   "outputs": [
    {
     "data": {
      "text/plain": [
       "8982"
      ]
     },
     "execution_count": 48,
     "metadata": {},
     "output_type": "execute_result"
    }
   ],
   "source": [
    "len(train_data)"
   ]
  },
  {
   "cell_type": "code",
   "execution_count": 49,
   "metadata": {},
   "outputs": [
    {
     "data": {
      "text/plain": [
       "2246"
      ]
     },
     "execution_count": 49,
     "metadata": {},
     "output_type": "execute_result"
    }
   ],
   "source": [
    "len(test_data)"
   ]
  },
  {
   "cell_type": "code",
   "execution_count": 50,
   "metadata": {},
   "outputs": [
    {
     "data": {
      "text/plain": [
       "[1,\n",
       " 245,\n",
       " 273,\n",
       " 207,\n",
       " 156,\n",
       " 53,\n",
       " 74,\n",
       " 160,\n",
       " 26,\n",
       " 14,\n",
       " 46,\n",
       " 296,\n",
       " 26,\n",
       " 39,\n",
       " 74,\n",
       " 2979,\n",
       " 3554,\n",
       " 14,\n",
       " 46,\n",
       " 4689,\n",
       " 4329,\n",
       " 86,\n",
       " 61,\n",
       " 3499,\n",
       " 4795,\n",
       " 14,\n",
       " 61,\n",
       " 451,\n",
       " 4329,\n",
       " 17,\n",
       " 12]"
      ]
     },
     "execution_count": 50,
     "metadata": {},
     "output_type": "execute_result"
    }
   ],
   "source": [
    "train_data[10]"
   ]
  },
  {
   "cell_type": "code",
   "execution_count": 51,
   "metadata": {},
   "outputs": [],
   "source": [
    "word_index = reuters.get_word_index()\n",
    "reverse_word_index = dict([(value, key) for (key, value) in word_index.items()])\n",
    "decoded_newswire = ' '.join([reverse_word_index.get(i - 3, '?') for i in train_data[0]])"
   ]
  },
  {
   "cell_type": "code",
   "execution_count": 52,
   "metadata": {},
   "outputs": [
    {
     "data": {
      "text/plain": [
       "'? ? ? said as a result of its december acquisition of space co it expects earnings per share in 1987 of 1 15 to 1 30 dlrs per share up from 70 cts in 1986 the company said pretax net should rise to nine to 10 mln dlrs from six mln dlrs in 1986 and rental operation revenues to 19 to 22 mln dlrs from 12 5 mln dlrs it said cash flow per share this year should be 2 50 to three dlrs reuter 3'"
      ]
     },
     "execution_count": 52,
     "metadata": {},
     "output_type": "execute_result"
    }
   ],
   "source": [
    "decoded_newswire"
   ]
  },
  {
   "cell_type": "markdown",
   "metadata": {},
   "source": [
    "### Preparing the data"
   ]
  },
  {
   "cell_type": "code",
   "execution_count": 53,
   "metadata": {},
   "outputs": [],
   "source": [
    "import numpy as np"
   ]
  },
  {
   "cell_type": "code",
   "execution_count": 68,
   "metadata": {},
   "outputs": [],
   "source": [
    "def vectorize_sequences(sequences, dimension=10000):\n",
    "    results = np.zeros((len(sequences), dimension))\n",
    "    for i, sequence in enumerate(sequences):\n",
    "        results[i, sequence] = 1.\n",
    "    return results"
   ]
  },
  {
   "cell_type": "code",
   "execution_count": 55,
   "metadata": {},
   "outputs": [],
   "source": [
    "x_train = vectorize_sequences(train_data)"
   ]
  },
  {
   "cell_type": "code",
   "execution_count": 56,
   "metadata": {},
   "outputs": [],
   "source": [
    "x_test = vectorize_sequences(test_data)"
   ]
  },
  {
   "cell_type": "code",
   "execution_count": 69,
   "metadata": {},
   "outputs": [],
   "source": [
    "def to_one_hot(labels, dimension=46):\n",
    "    results = np.zeros((len(labels), dimension))\n",
    "    for i, label in enumerate(labels):\n",
    "        results[i, label] = 1.\n",
    "    return results"
   ]
  },
  {
   "cell_type": "code",
   "execution_count": 58,
   "metadata": {},
   "outputs": [],
   "source": [
    "one_hot_train_labels = to_one_hot(train_labels)"
   ]
  },
  {
   "cell_type": "code",
   "execution_count": 59,
   "metadata": {},
   "outputs": [],
   "source": [
    "one_hot_test_labels = to_one_hot(test_labels)"
   ]
  },
  {
   "cell_type": "markdown",
   "metadata": {},
   "source": [
    "### Building the network"
   ]
  },
  {
   "cell_type": "code",
   "execution_count": 70,
   "metadata": {},
   "outputs": [],
   "source": [
    "model = models.Sequential()\n",
    "model.add(layers.Dense(64, activation='relu', input_shape=(10000,)))\n",
    "model.add(layers.Dense(64, activation='relu'))\n",
    "model.add(layers.Dense(46, activation='softmax'))\n",
    "model.compile(optimizer='rmsprop',\n",
    "             loss='categorical_crossentropy',\n",
    "             metrics=['accuracy'])"
   ]
  },
  {
   "cell_type": "code",
   "execution_count": 71,
   "metadata": {},
   "outputs": [],
   "source": [
    "x_val = x_train[:1000]\n",
    "partial_x_train = x_train[1000:]"
   ]
  },
  {
   "cell_type": "code",
   "execution_count": 72,
   "metadata": {},
   "outputs": [],
   "source": [
    "y_val = one_hot_train_labels[:1000]\n",
    "partial_y_train = one_hot_train_labels[1000:]"
   ]
  },
  {
   "cell_type": "code",
   "execution_count": 73,
   "metadata": {},
   "outputs": [
    {
     "name": "stdout",
     "output_type": "stream",
     "text": [
      "Train on 7982 samples, validate on 1000 samples\n",
      "Epoch 1/20\n",
      "7982/7982 [==============================] - 1s 76us/sample - loss: 2.6756 - accuracy: 0.5256 - val_loss: 1.7054 - val_accuracy: 0.6590\n",
      "Epoch 2/20\n",
      "7982/7982 [==============================] - 0s 32us/sample - loss: 1.3855 - accuracy: 0.7162 - val_loss: 1.2727 - val_accuracy: 0.7290\n",
      "Epoch 3/20\n",
      "7982/7982 [==============================] - 0s 31us/sample - loss: 1.0189 - accuracy: 0.7798 - val_loss: 1.1206 - val_accuracy: 0.7460\n",
      "Epoch 4/20\n",
      "7982/7982 [==============================] - 0s 30us/sample - loss: 0.8050 - accuracy: 0.8260 - val_loss: 1.0097 - val_accuracy: 0.7850\n",
      "Epoch 5/20\n",
      "7982/7982 [==============================] - 0s 30us/sample - loss: 0.6380 - accuracy: 0.8661 - val_loss: 0.9525 - val_accuracy: 0.8100\n",
      "Epoch 6/20\n",
      "7982/7982 [==============================] - 0s 30us/sample - loss: 0.5104 - accuracy: 0.8934 - val_loss: 0.9316 - val_accuracy: 0.8000\n",
      "Epoch 7/20\n",
      "7982/7982 [==============================] - 0s 31us/sample - loss: 0.4124 - accuracy: 0.9149 - val_loss: 0.9029 - val_accuracy: 0.8120\n",
      "Epoch 8/20\n",
      "7982/7982 [==============================] - 0s 31us/sample - loss: 0.3368 - accuracy: 0.9337 - val_loss: 0.8973 - val_accuracy: 0.8170\n",
      "Epoch 9/20\n",
      "7982/7982 [==============================] - 0s 30us/sample - loss: 0.2777 - accuracy: 0.9399 - val_loss: 0.8935 - val_accuracy: 0.8190\n",
      "Epoch 10/20\n",
      "7982/7982 [==============================] - 0s 31us/sample - loss: 0.2377 - accuracy: 0.9454 - val_loss: 0.9195 - val_accuracy: 0.8150\n",
      "Epoch 11/20\n",
      "7982/7982 [==============================] - 0s 31us/sample - loss: 0.2047 - accuracy: 0.9489 - val_loss: 0.9250 - val_accuracy: 0.8180\n",
      "Epoch 12/20\n",
      "7982/7982 [==============================] - 0s 37us/sample - loss: 0.1817 - accuracy: 0.9523 - val_loss: 0.9300 - val_accuracy: 0.8130\n",
      "Epoch 13/20\n",
      "7982/7982 [==============================] - 0s 30us/sample - loss: 0.1621 - accuracy: 0.9545 - val_loss: 0.9436 - val_accuracy: 0.8180\n",
      "Epoch 14/20\n",
      "7982/7982 [==============================] - 0s 35us/sample - loss: 0.1528 - accuracy: 0.9543 - val_loss: 0.9814 - val_accuracy: 0.8110\n",
      "Epoch 15/20\n",
      "7982/7982 [==============================] - 0s 31us/sample - loss: 0.1348 - accuracy: 0.9584 - val_loss: 0.9983 - val_accuracy: 0.8020\n",
      "Epoch 16/20\n",
      "7982/7982 [==============================] - 0s 30us/sample - loss: 0.1306 - accuracy: 0.9555 - val_loss: 1.0529 - val_accuracy: 0.8010\n",
      "Epoch 17/20\n",
      "7982/7982 [==============================] - 0s 33us/sample - loss: 0.1225 - accuracy: 0.9574 - val_loss: 1.0640 - val_accuracy: 0.7970\n",
      "Epoch 18/20\n",
      "7982/7982 [==============================] - 0s 31us/sample - loss: 0.1214 - accuracy: 0.9563 - val_loss: 1.0947 - val_accuracy: 0.7940\n",
      "Epoch 19/20\n",
      "7982/7982 [==============================] - 0s 31us/sample - loss: 0.1194 - accuracy: 0.9575 - val_loss: 1.0759 - val_accuracy: 0.8060\n",
      "Epoch 20/20\n",
      "7982/7982 [==============================] - 0s 32us/sample - loss: 0.1115 - accuracy: 0.9572 - val_loss: 1.0813 - val_accuracy: 0.8090\n"
     ]
    }
   ],
   "source": [
    "history = model.fit(partial_x_train,\n",
    "                   partial_y_train,\n",
    "                   epochs=20,\n",
    "                   batch_size=512,\n",
    "                   validation_data=(x_val, y_val))"
   ]
  },
  {
   "cell_type": "code",
   "execution_count": 79,
   "metadata": {},
   "outputs": [],
   "source": [
    "loss = history.history['loss']\n",
    "val_loss = history.history['val_loss']"
   ]
  },
  {
   "cell_type": "code",
   "execution_count": 80,
   "metadata": {},
   "outputs": [],
   "source": [
    "epochs = range(1, len(loss) + 1)"
   ]
  },
  {
   "cell_type": "code",
   "execution_count": 81,
   "metadata": {},
   "outputs": [
    {
     "data": {
      "image/png": "[encoded data removed]",
      "text/plain": [
       "<Figure size 432x288 with 1 Axes>"
      ]
     },
     "metadata": {
      "needs_background": "light"
     },
     "output_type": "display_data"
    }
   ],
   "source": [
    "plt.plot(epochs, loss, 'bo', label='Training loss')\n",
    "plt.plot(epochs, val_loss, 'b', label='Validation loss')\n",
    "plt.title('Training and validation loss')\n",
    "plt.xlabel('Epochs')\n",
    "plt.ylabel('Loss')\n",
    "plt.legend()\n",
    "plt.show()"
   ]
  },
  {
   "cell_type": "code",
   "execution_count": 84,
   "metadata": {},
   "outputs": [],
   "source": [
    "acc = history.history['accuracy']\n",
    "val_acc = history.history['val_accuracy']"
   ]
  },
  {
   "cell_type": "code",
   "execution_count": 86,
   "metadata": {},
   "outputs": [
    {
     "data": {
      "image/png": "[encoded data removed]",
      "text/plain": [
       "<Figure size 432x288 with 1 Axes>"
      ]
     },
     "metadata": {
      "needs_background": "light"
     },
     "output_type": "display_data"
    }
   ],
   "source": [
    "plt.plot(epochs, acc, 'bo', label='Training accuracy')\n",
    "plt.plot(epochs, val_acc, 'b', label='Validation accuracy')\n",
    "plt.title('Training and validation accuracy')\n",
    "plt.xlabel('Epochs')\n",
    "plt.ylabel('Loss')\n",
    "plt.legend()\n",
    "plt.show()"
   ]
  },
  {
   "cell_type": "markdown",
   "metadata": {},
   "source": [
    "### The model begins to overfit after nine epochs"
   ]
  },
  {
   "cell_type": "code",
   "execution_count": 88,
   "metadata": {},
   "outputs": [],
   "source": [
    "model = models.Sequential()\n",
    "model.add(layers.Dense(64, activation='relu', input_shape=(10000,)))\n",
    "model.add(layers.Dense(64, activation='relu'))\n",
    "model.add(layers.Dense(46, activation='softmax'))\n",
    "model.compile(optimizer='rmsprop',\n",
    "             loss='categorical_crossentropy',\n",
    "             metrics=['accuracy'])"
   ]
  },
  {
   "cell_type": "code",
   "execution_count": 89,
   "metadata": {},
   "outputs": [
    {
     "name": "stdout",
     "output_type": "stream",
     "text": [
      "Train on 7982 samples, validate on 1000 samples\n",
      "Epoch 1/9\n",
      "7982/7982 [==============================] - 1s 76us/sample - loss: 2.5060 - accuracy: 0.4721 - val_loss: 1.6689 - val_accuracy: 0.6480\n",
      "Epoch 2/9\n",
      "7982/7982 [==============================] - 0s 31us/sample - loss: 1.3767 - accuracy: 0.7111 - val_loss: 1.2911 - val_accuracy: 0.7130\n",
      "Epoch 3/9\n",
      "7982/7982 [==============================] - 0s 30us/sample - loss: 1.0312 - accuracy: 0.7777 - val_loss: 1.1206 - val_accuracy: 0.7660\n",
      "Epoch 4/9\n",
      "7982/7982 [==============================] - 0s 30us/sample - loss: 0.8142 - accuracy: 0.8281 - val_loss: 1.0454 - val_accuracy: 0.7740\n",
      "Epoch 5/9\n",
      "7982/7982 [==============================] - 0s 30us/sample - loss: 0.6505 - accuracy: 0.8623 - val_loss: 0.9845 - val_accuracy: 0.7840\n",
      "Epoch 6/9\n",
      "7982/7982 [==============================] - 0s 32us/sample - loss: 0.5216 - accuracy: 0.8908 - val_loss: 0.9460 - val_accuracy: 0.8090\n",
      "Epoch 7/9\n",
      "7982/7982 [==============================] - 0s 31us/sample - loss: 0.4199 - accuracy: 0.9147 - val_loss: 0.9112 - val_accuracy: 0.8070\n",
      "Epoch 8/9\n",
      "7982/7982 [==============================] - 0s 31us/sample - loss: 0.3438 - accuracy: 0.9270 - val_loss: 0.9055 - val_accuracy: 0.8170\n",
      "Epoch 9/9\n",
      "7982/7982 [==============================] - 0s 30us/sample - loss: 0.2882 - accuracy: 0.9357 - val_loss: 0.9344 - val_accuracy: 0.8130\n",
      "2246/2246 [==============================] - 0s 72us/sample - loss: 0.9963 - accuracy: 0.7836\n"
     ]
    }
   ],
   "source": [
    "model.fit(partial_x_train,\n",
    "         partial_y_train,\n",
    "         epochs=9,\n",
    "         batch_size=512,\n",
    "         validation_data=(x_val, y_val))\n",
    "results = model.evaluate(x_test, one_hot_test_labels)"
   ]
  },
  {
   "cell_type": "code",
   "execution_count": 90,
   "metadata": {},
   "outputs": [],
   "source": [
    "import copy"
   ]
  },
  {
   "cell_type": "code",
   "execution_count": 91,
   "metadata": {},
   "outputs": [
    {
     "data": {
      "text/plain": [
       "0.18432769367764915"
      ]
     },
     "execution_count": 91,
     "metadata": {},
     "output_type": "execute_result"
    }
   ],
   "source": [
    "test_labels_copy = copy.copy(test_labels)\n",
    "np.random.shuffle(test_labels_copy)\n",
    "hits_array = np.array(test_labels) == np.array(test_labels_copy)\n",
    "float(np.sum(hits_array)) / len(test_labels)"
   ]
  },
  {
   "cell_type": "code",
   "execution_count": 92,
   "metadata": {},
   "outputs": [],
   "source": [
    "predictions = model.predict(x_test)"
   ]
  },
  {
   "cell_type": "code",
   "execution_count": null,
   "metadata": {},
   "outputs": [],
   "source": []
  }
 ],
 "metadata": {
  "kernelspec": {
   "display_name": "Python 3",
   "language": "python",
   "name": "python3"
  },
  "language_info": {
   "codemirror_mode": {
    "name": "ipython",
    "version": 3
   },
   "file_extension": ".py",
   "mimetype": "text/x-python",
   "name": "python",
   "nbconvert_exporter": "python",
   "pygments_lexer": "ipython3",
   "version": "3.6.7"
  }
 },
 "nbformat": 4,
 "nbformat_minor": 4
}
