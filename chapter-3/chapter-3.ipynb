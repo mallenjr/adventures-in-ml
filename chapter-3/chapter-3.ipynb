{
 "cells": [
  {
   "cell_type": "markdown",
   "metadata": {},
   "source": [
    "# Chapter 3\n",
    "\n",
    "So far in this chapter, the book has discussed installing Keras and how it interfaces with the chosen backend (tensorflow, cntk, theano, etc..). The first applicable part of this chapter is section 3.4 where we will use the IMBD dataset to predict reviews for movies. The dataset is a part of the Keras library and contains 50,000 highly polarized reviews according to the book. The num_words argument in line 3 basically means that only the top 10,000 most commonly used words will be kept in the training and test data."
   ]
  },
  {
   "cell_type": "code",
   "execution_count": 46,
   "metadata": {},
   "outputs": [],
   "source": [
    "from tensorflow.keras.datasets import imdb"
   ]
  },
  {
   "cell_type": "code",
   "execution_count": 47,
   "metadata": {},
   "outputs": [],
   "source": [
    "import numpy as np"
   ]
  },
  {
   "cell_type": "code",
   "execution_count": 48,
   "metadata": {},
   "outputs": [],
   "source": [
    "(train_data, train_labels), (test_data, test_labels) = imdb.load_data(num_words=10000)"
   ]
  },
  {
   "cell_type": "markdown",
   "metadata": {},
   "source": [
    "## Example of decoding the training data back to human readble stuff\n",
    "\n",
    "Pretty self-explanitory. the ?s represent data not included in the aforementioned 10,000 word dictionary."
   ]
  },
  {
   "cell_type": "code",
   "execution_count": 49,
   "metadata": {},
   "outputs": [
    {
     "name": "stdout",
     "output_type": "stream",
     "text": [
      "? this film was just brilliant casting location scenery story direction everyone's really suited the part they played and you could just imagine being there robert ? is an amazing actor and now the same being director ? father came from the same scottish island as myself so i loved the fact there was a real connection with this film the witty remarks throughout the film were great it was just brilliant so much that i bought the film as soon as it was released for ? and would recommend it to everyone to watch and the fly fishing was amazing really cried at the end it was so sad and you know what they say if you cry at a film it must have been good and this definitely was also ? to the two little boy's that played the ? of norman and paul they were just brilliant children are often left out of the ? list i think because the stars that play them all grown up are such a big profile for the whole film but these children are amazing and should be praised for what they have done don't you think the whole story was so lovely because it was true and was someone's life after all that was shared with us all\n"
     ]
    }
   ],
   "source": [
    "word_index = imdb.get_word_index()\n",
    "reverse_word_index = dict([(value, key) for (key, value) in word_index.items()])\n",
    "decoded_review = ' '.join([reverse_word_index.get(i - 3, '?') for i in train_data[0]])\n",
    "print(decoded_review)"
   ]
  },
  {
   "cell_type": "markdown",
   "metadata": {},
   "source": [
    "## Preparing the data\n",
    "\n",
    "So as we learned in last chapter, we cannot directly import vector data of essentially aarbitrary values into a neural network. I mean, we can, but it would seriously impede performance. To combat this, we _normalize_ the data. In this instance, normalization is done by one-hot encoding. Below is a manual implementation of one-hot encoding taken directly from the book. Based on my **limited** understanding: one-hot encoding takes each element in the array and encodes it in a way that makes the data understandable to neural networks."
   ]
  },
  {
   "cell_type": "code",
   "execution_count": 50,
   "metadata": {},
   "outputs": [],
   "source": [
    "def vectorize_sequences(sequences, dimension=10000):\n",
    "    results = np.zeros((len(sequences), dimension))\n",
    "    for i, sequence in enumerate(sequences):\n",
    "        results[i, sequence] = 1.\n",
    "    return results"
   ]
  },
  {
   "cell_type": "code",
   "execution_count": 51,
   "metadata": {},
   "outputs": [],
   "source": [
    "x_train = vectorize_sequences(train_data)\n",
    "x_test = vectorize_sequences(test_data)"
   ]
  },
  {
   "cell_type": "markdown",
   "metadata": {},
   "source": [
    "### A deeper dive\n",
    "\n",
    "So I printed out the first few elements of the enumeration that takes place to get a bit of a deeper understanding of what's happening inside of the one-hot function. Based on what I can tell, the results matrix has a shape in dimension 0 equal to the length of the training data array and a shape in dimension 1 equal to the shape of the word dictionary. The results line inside of the for loop does the ineresting bit: for each line in the results array, every position that indicates a word that appears in the article, no matter how many times, is given a value of 1 and all others are given a value of 0."
   ]
  },
  {
   "cell_type": "code",
   "execution_count": 52,
   "metadata": {},
   "outputs": [
    {
     "name": "stdout",
     "output_type": "stream",
     "text": [
      "[(0, [1, 14, 22, 16, 43, 530, 973, 1622, 1385, 65, 458, 4468, 66, 3941, 4, 173, 36, 256, 5, 25, 100, 43, 838, 112, 50, 670, 2, 9, 35, 480, 284, 5, 150, 4, 172, 112, 167, 2, 336, 385, 39, 4, 172, 4536, 1111, 17, 546, 38, 13, 447, 4, 192, 50, 16, 6, 147, 2025, 19, 14, 22, 4, 1920, 4613, 469, 4, 22, 71, 87, 12, 16, 43, 530, 38, 76, 15, 13, 1247, 4, 22, 17, 515, 17, 12, 16, 626, 18, 2, 5, 62, 386, 12, 8, 316, 8, 106, 5, 4, 2223, 5244, 16, 480, 66, 3785, 33, 4, 130, 12, 16, 38, 619, 5, 25, 124, 51, 36, 135, 48, 25, 1415, 33, 6, 22, 12, 215, 28, 77, 52, 5, 14, 407, 16, 82, 2, 8, 4, 107, 117, 5952, 15, 256, 4, 2, 7, 3766, 5, 723, 36, 71, 43, 530, 476, 26, 400, 317, 46, 7, 4, 2, 1029, 13, 104, 88, 4, 381, 15, 297, 98, 32, 2071, 56, 26, 141, 6, 194, 7486, 18, 4, 226, 22, 21, 134, 476, 26, 480, 5, 144, 30, 5535, 18, 51, 36, 28, 224, 92, 25, 104, 4, 226, 65, 16, 38, 1334, 88, 12, 16, 283, 5, 16, 4472, 113, 103, 32, 15, 16, 5345, 19, 178, 32]), (1, [1, 194, 1153, 194, 8255, 78, 228, 5, 6, 1463, 4369, 5012, 134, 26, 4, 715, 8, 118, 1634, 14, 394, 20, 13, 119, 954, 189, 102, 5, 207, 110, 3103, 21, 14, 69, 188, 8, 30, 23, 7, 4, 249, 126, 93, 4, 114, 9, 2300, 1523, 5, 647, 4, 116, 9, 35, 8163, 4, 229, 9, 340, 1322, 4, 118, 9, 4, 130, 4901, 19, 4, 1002, 5, 89, 29, 952, 46, 37, 4, 455, 9, 45, 43, 38, 1543, 1905, 398, 4, 1649, 26, 6853, 5, 163, 11, 3215, 2, 4, 1153, 9, 194, 775, 7, 8255, 2, 349, 2637, 148, 605, 2, 8003, 15, 123, 125, 68, 2, 6853, 15, 349, 165, 4362, 98, 5, 4, 228, 9, 43, 2, 1157, 15, 299, 120, 5, 120, 174, 11, 220, 175, 136, 50, 9, 4373, 228, 8255, 5, 2, 656, 245, 2350, 5, 4, 9837, 131, 152, 491, 18, 2, 32, 7464, 1212, 14, 9, 6, 371, 78, 22, 625, 64, 1382, 9, 8, 168, 145, 23, 4, 1690, 15, 16, 4, 1355, 5, 28, 6, 52, 154, 462, 33, 89, 78, 285, 16, 145, 95])]\n"
     ]
    }
   ],
   "source": [
    "print(list(enumerate(train_data[:2])))"
   ]
  },
  {
   "cell_type": "markdown",
   "metadata": {},
   "source": [
    "### Another way embraces us\n",
    "\n",
    "Instead of one-hot, you can use built in numpy functions to vectorize the data. But what fun is that?"
   ]
  },
  {
   "cell_type": "code",
   "execution_count": 53,
   "metadata": {},
   "outputs": [],
   "source": [
    "y_train = np.asarray(train_labels).astype('float32')\n",
    "y_test = np.asarray(train_labels).astype('float32')"
   ]
  },
  {
   "cell_type": "markdown",
   "metadata": {},
   "source": [
    "## Building the network"
   ]
  },
  {
   "cell_type": "code",
   "execution_count": 54,
   "metadata": {},
   "outputs": [],
   "source": [
    "from tensorflow.keras import models\n",
    "from tensorflow.keras import layers\n",
    "from tensorflow.keras import optimizers"
   ]
  },
  {
   "cell_type": "code",
   "execution_count": 55,
   "metadata": {},
   "outputs": [],
   "source": [
    "model = models.Sequential()\n",
    "model.add(layers.Dense(16, activation='relu', input_shape=(10000,)))\n",
    "model.add(layers.Dense(16, activation='relu'))\n",
    "model.add(layers.Dense(1, activation='sigmoid'))"
   ]
  },
  {
   "cell_type": "code",
   "execution_count": 56,
   "metadata": {},
   "outputs": [],
   "source": [
    "model.compile(optimizer='rmsprop',\n",
    "             loss='binary_crossentropy',\n",
    "             metrics=['accuracy'])"
   ]
  },
  {
   "cell_type": "code",
   "execution_count": 57,
   "metadata": {},
   "outputs": [],
   "source": [
    "x_val = x_train[:10000]\n",
    "partial_x_train = x_train[10000:]\n",
    "y_val = y_train[:10000]\n",
    "partial_y_train = y_train[10000:]"
   ]
  },
  {
   "cell_type": "code",
   "execution_count": 58,
   "metadata": {},
   "outputs": [
    {
     "name": "stdout",
     "output_type": "stream",
     "text": [
      "Train on 15000 samples, validate on 10000 samples\n",
      "Epoch 1/20\n",
      "15000/15000 [==============================] - 1s 72us/sample - loss: 0.5331 - accuracy: 0.7784 - val_loss: 0.4065 - val_accuracy: 0.8498\n",
      "Epoch 2/20\n",
      "15000/15000 [==============================] - 1s 46us/sample - loss: 0.3157 - accuracy: 0.8983 - val_loss: 0.3076 - val_accuracy: 0.8874\n",
      "Epoch 3/20\n",
      "15000/15000 [==============================] - 1s 49us/sample - loss: 0.2283 - accuracy: 0.9251 - val_loss: 0.2848 - val_accuracy: 0.8862\n",
      "Epoch 4/20\n",
      "15000/15000 [==============================] - 1s 46us/sample - loss: 0.1777 - accuracy: 0.9433 - val_loss: 0.3183 - val_accuracy: 0.8715\n",
      "Epoch 5/20\n",
      "15000/15000 [==============================] - 1s 44us/sample - loss: 0.1453 - accuracy: 0.9536 - val_loss: 0.2835 - val_accuracy: 0.8858\n",
      "Epoch 6/20\n",
      "15000/15000 [==============================] - 1s 47us/sample - loss: 0.1194 - accuracy: 0.9630 - val_loss: 0.3157 - val_accuracy: 0.8761\n",
      "Epoch 7/20\n",
      "15000/15000 [==============================] - 1s 48us/sample - loss: 0.1005 - accuracy: 0.9699 - val_loss: 0.3048 - val_accuracy: 0.8851\n",
      "Epoch 8/20\n",
      "15000/15000 [==============================] - 1s 44us/sample - loss: 0.0837 - accuracy: 0.9759 - val_loss: 0.3583 - val_accuracy: 0.8765\n",
      "Epoch 9/20\n",
      "15000/15000 [==============================] - 1s 46us/sample - loss: 0.0692 - accuracy: 0.9819 - val_loss: 0.3438 - val_accuracy: 0.8793\n",
      "Epoch 10/20\n",
      "15000/15000 [==============================] - 1s 45us/sample - loss: 0.0574 - accuracy: 0.9854 - val_loss: 0.3759 - val_accuracy: 0.8743\n",
      "Epoch 11/20\n",
      "15000/15000 [==============================] - 1s 46us/sample - loss: 0.0460 - accuracy: 0.9893 - val_loss: 0.4001 - val_accuracy: 0.8785\n",
      "Epoch 12/20\n",
      "15000/15000 [==============================] - 1s 43us/sample - loss: 0.0384 - accuracy: 0.9925 - val_loss: 0.5007 - val_accuracy: 0.8628\n",
      "Epoch 13/20\n",
      "15000/15000 [==============================] - 1s 44us/sample - loss: 0.0300 - accuracy: 0.9939 - val_loss: 0.4495 - val_accuracy: 0.8741\n",
      "Epoch 14/20\n",
      "15000/15000 [==============================] - 1s 46us/sample - loss: 0.0246 - accuracy: 0.9948 - val_loss: 0.4769 - val_accuracy: 0.8733\n",
      "Epoch 15/20\n",
      "15000/15000 [==============================] - 1s 45us/sample - loss: 0.0195 - accuracy: 0.9967 - val_loss: 0.5086 - val_accuracy: 0.8704\n",
      "Epoch 16/20\n",
      "15000/15000 [==============================] - 1s 49us/sample - loss: 0.0148 - accuracy: 0.9986 - val_loss: 0.5433 - val_accuracy: 0.8714\n",
      "Epoch 17/20\n",
      "15000/15000 [==============================] - 1s 43us/sample - loss: 0.0120 - accuracy: 0.9985 - val_loss: 0.5750 - val_accuracy: 0.8675\n",
      "Epoch 18/20\n",
      "15000/15000 [==============================] - 1s 49us/sample - loss: 0.0114 - accuracy: 0.9979 - val_loss: 0.6105 - val_accuracy: 0.8665\n",
      "Epoch 19/20\n",
      "15000/15000 [==============================] - 1s 45us/sample - loss: 0.0051 - accuracy: 0.9998 - val_loss: 0.6394 - val_accuracy: 0.8658\n",
      "Epoch 20/20\n",
      "15000/15000 [==============================] - 1s 44us/sample - loss: 0.0088 - accuracy: 0.9983 - val_loss: 0.6714 - val_accuracy: 0.8665\n"
     ]
    }
   ],
   "source": [
    "history = model.fit(partial_x_train,\n",
    "                   partial_y_train,\n",
    "                   epochs=20,\n",
    "                   batch_size=512,\n",
    "                   validation_data=(x_val, y_val))"
   ]
  },
  {
   "cell_type": "code",
   "execution_count": 59,
   "metadata": {},
   "outputs": [
    {
     "name": "stdout",
     "output_type": "stream",
     "text": [
      "dict_keys(['loss', 'accuracy', 'val_loss', 'val_accuracy'])\n"
     ]
    }
   ],
   "source": [
    "history_dict = history.history\n",
    "print(history_dict.keys())"
   ]
  },
  {
   "cell_type": "code",
   "execution_count": 60,
   "metadata": {},
   "outputs": [],
   "source": [
    "import matplotlib.pyplot as plt"
   ]
  },
  {
   "cell_type": "code",
   "execution_count": 61,
   "metadata": {},
   "outputs": [],
   "source": [
    "loss_values = history_dict['loss']\n",
    "val_loss_values = history_dict['val_loss']\n",
    "epochs = range(1, len(history_dict['accuracy']) + 1)"
   ]
  },
  {
   "cell_type": "code",
   "execution_count": 62,
   "metadata": {},
   "outputs": [
    {
     "data": {
      "image/png": "[encoded data removed]",
      "text/plain": [
       "<Figure size 432x288 with 1 Axes>"
      ]
     },
     "metadata": {
      "needs_background": "light"
     },
     "output_type": "display_data"
    }
   ],
   "source": [
    "plt.plot(epochs, loss_values, 'bo', label='Training loss')\n",
    "plt.plot(epochs, val_loss_values, 'b', label='Validation loss')\n",
    "plt.title('Training and validation loss')\n",
    "plt.xlabel('Epochs')\n",
    "plt.ylabel('Loss')\n",
    "plt.legend()\n",
    "plt.show()"
   ]
  },
  {
   "cell_type": "code",
   "execution_count": 63,
   "metadata": {},
   "outputs": [
    {
     "data": {
      "image/png": "[encoded data removed]",
      "text/plain": [
       "<Figure size 432x288 with 1 Axes>"
      ]
     },
     "metadata": {
      "needs_background": "light"
     },
     "output_type": "display_data"
    }
   ],
   "source": [
    "plt.clf()\n",
    "acc_values = history_dict['accuracy']\n",
    "val_acc_values = history_dict['val_accuracy']\n",
    "plt.plot(epochs, acc_values, 'bo', label='Training accuracy')\n",
    "plt.plot(epochs, val_acc_values, 'b', label='Validation accuracy')\n",
    "plt.title('Training and validation accuracy')\n",
    "plt.xlabel('Epochs')\n",
    "plt.ylabel('Loss')\n",
    "plt.legend()\n",
    "plt.show()"
   ]
  },
  {
   "cell_type": "code",
   "execution_count": 70,
   "metadata": {},
   "outputs": [],
   "source": [
    "model = models.Sequential()\n",
    "model.add(layers.Dense(16, activation='tanh', input_shape=(10000,)))\n",
    "model.add(layers.Dense(16, activation='tanh'))\n",
    "model.add(layers.Dense(1, activation='sigmoid'))"
   ]
  },
  {
   "cell_type": "code",
   "execution_count": 71,
   "metadata": {},
   "outputs": [],
   "source": [
    "model.compile(optimizer='rmsprop',\n",
    "             loss='binary_crossentropy',\n",
    "             metrics=['accuracy'])"
   ]
  },
  {
   "cell_type": "code",
   "execution_count": 72,
   "metadata": {},
   "outputs": [
    {
     "name": "stdout",
     "output_type": "stream",
     "text": [
      "Train on 25000 samples\n",
      "Epoch 1/4\n",
      "25000/25000 [==============================] - 1s 46us/sample - loss: 0.4251 - accuracy: 0.8252\n",
      "Epoch 2/4\n",
      "25000/25000 [==============================] - 1s 28us/sample - loss: 0.2353 - accuracy: 0.9129\n",
      "Epoch 3/4\n",
      "25000/25000 [==============================] - 1s 27us/sample - loss: 0.1791 - accuracy: 0.9332\n",
      "Epoch 4/4\n",
      "25000/25000 [==============================] - 1s 27us/sample - loss: 0.1478 - accuracy: 0.9472\n",
      "25000/25000 [==============================] - 2s 70us/sample - loss: 2.0285 - accuracy: 0.4998\n"
     ]
    }
   ],
   "source": [
    "history = model.fit(x_train, y_train, epochs=4, batch_size=512)\n",
    "results = model.evaluate(x_test, y_test)"
   ]
  },
  {
   "cell_type": "code",
   "execution_count": null,
   "metadata": {},
   "outputs": [],
   "source": []
  }
 ],
 "metadata": {
  "kernelspec": {
   "display_name": "Python 3",
   "language": "python",
   "name": "python3"
  },
  "language_info": {
   "codemirror_mode": {
    "name": "ipython",
    "version": 3
   },
   "file_extension": ".py",
   "mimetype": "text/x-python",
   "name": "python",
   "nbconvert_exporter": "python",
   "pygments_lexer": "ipython3",
   "version": "3.6.7"
  }
 },
 "nbformat": 4,
 "nbformat_minor": 4
}
